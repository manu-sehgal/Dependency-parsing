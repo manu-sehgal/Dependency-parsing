{
  "nbformat": 4,
  "nbformat_minor": 0,
  "metadata": {
    "colab": {
      "provenance": []
    },
    "kernelspec": {
      "name": "python3",
      "display_name": "Python 3"
    },
    "language_info": {
      "name": "python"
    },
    "accelerator": "GPU",
    "widgets": {
      "application/vnd.jupyter.widget-state+json": {
        "4a849fbcddc64bc2b05fed9e4bc989aa": {
          "model_module": "@jupyter-widgets/controls",
          "model_name": "HBoxModel",
          "model_module_version": "1.5.0",
          "state": {
            "_dom_classes": [],
            "_model_module": "@jupyter-widgets/controls",
            "_model_module_version": "1.5.0",
            "_model_name": "HBoxModel",
            "_view_count": null,
            "_view_module": "@jupyter-widgets/controls",
            "_view_module_version": "1.5.0",
            "_view_name": "HBoxView",
            "box_style": "",
            "children": [
              "IPY_MODEL_5bafba940bca4802a88e42db75d9290d",
              "IPY_MODEL_9531c383dc3245b296f116dcd00f00b2",
              "IPY_MODEL_80ab7729bab94c6baf9f93e2e44e76ad"
            ],
            "layout": "IPY_MODEL_3540ccc925eb4b7892a4df66e39b2026"
          }
        },
        "5bafba940bca4802a88e42db75d9290d": {
          "model_module": "@jupyter-widgets/controls",
          "model_name": "HTMLModel",
          "model_module_version": "1.5.0",
          "state": {
            "_dom_classes": [],
            "_model_module": "@jupyter-widgets/controls",
            "_model_module_version": "1.5.0",
            "_model_name": "HTMLModel",
            "_view_count": null,
            "_view_module": "@jupyter-widgets/controls",
            "_view_module_version": "1.5.0",
            "_view_name": "HTMLView",
            "description": "",
            "description_tooltip": null,
            "layout": "IPY_MODEL_8ddfd6913c7e40c3b93a0d1a23266188",
            "placeholder": "​",
            "style": "IPY_MODEL_8ffd433c311441f9b79d4f148d36c407",
            "value": "Downloading: 100%"
          }
        },
        "9531c383dc3245b296f116dcd00f00b2": {
          "model_module": "@jupyter-widgets/controls",
          "model_name": "FloatProgressModel",
          "model_module_version": "1.5.0",
          "state": {
            "_dom_classes": [],
            "_model_module": "@jupyter-widgets/controls",
            "_model_module_version": "1.5.0",
            "_model_name": "FloatProgressModel",
            "_view_count": null,
            "_view_module": "@jupyter-widgets/controls",
            "_view_module_version": "1.5.0",
            "_view_name": "ProgressView",
            "bar_style": "success",
            "description": "",
            "description_tooltip": null,
            "layout": "IPY_MODEL_1a5b96a3ad1941b38880a0158c299ead",
            "max": 1115590446,
            "min": 0,
            "orientation": "horizontal",
            "style": "IPY_MODEL_1cc544f5d38d4395b5102957ff025b9b",
            "value": 1115590446
          }
        },
        "80ab7729bab94c6baf9f93e2e44e76ad": {
          "model_module": "@jupyter-widgets/controls",
          "model_name": "HTMLModel",
          "model_module_version": "1.5.0",
          "state": {
            "_dom_classes": [],
            "_model_module": "@jupyter-widgets/controls",
            "_model_module_version": "1.5.0",
            "_model_name": "HTMLModel",
            "_view_count": null,
            "_view_module": "@jupyter-widgets/controls",
            "_view_module_version": "1.5.0",
            "_view_name": "HTMLView",
            "description": "",
            "description_tooltip": null,
            "layout": "IPY_MODEL_b26752f12c7541f291084c25d6c05c72",
            "placeholder": "​",
            "style": "IPY_MODEL_ccda213192264b1a88e84a263a3f4a46",
            "value": " 1.12G/1.12G [00:23&lt;00:00, 51.1MB/s]"
          }
        },
        "3540ccc925eb4b7892a4df66e39b2026": {
          "model_module": "@jupyter-widgets/base",
          "model_name": "LayoutModel",
          "model_module_version": "1.2.0",
          "state": {
            "_model_module": "@jupyter-widgets/base",
            "_model_module_version": "1.2.0",
            "_model_name": "LayoutModel",
            "_view_count": null,
            "_view_module": "@jupyter-widgets/base",
            "_view_module_version": "1.2.0",
            "_view_name": "LayoutView",
            "align_content": null,
            "align_items": null,
            "align_self": null,
            "border": null,
            "bottom": null,
            "display": null,
            "flex": null,
            "flex_flow": null,
            "grid_area": null,
            "grid_auto_columns": null,
            "grid_auto_flow": null,
            "grid_auto_rows": null,
            "grid_column": null,
            "grid_gap": null,
            "grid_row": null,
            "grid_template_areas": null,
            "grid_template_columns": null,
            "grid_template_rows": null,
            "height": null,
            "justify_content": null,
            "justify_items": null,
            "left": null,
            "margin": null,
            "max_height": null,
            "max_width": null,
            "min_height": null,
            "min_width": null,
            "object_fit": null,
            "object_position": null,
            "order": null,
            "overflow": null,
            "overflow_x": null,
            "overflow_y": null,
            "padding": null,
            "right": null,
            "top": null,
            "visibility": null,
            "width": null
          }
        },
        "8ddfd6913c7e40c3b93a0d1a23266188": {
          "model_module": "@jupyter-widgets/base",
          "model_name": "LayoutModel",
          "model_module_version": "1.2.0",
          "state": {
            "_model_module": "@jupyter-widgets/base",
            "_model_module_version": "1.2.0",
            "_model_name": "LayoutModel",
            "_view_count": null,
            "_view_module": "@jupyter-widgets/base",
            "_view_module_version": "1.2.0",
            "_view_name": "LayoutView",
            "align_content": null,
            "align_items": null,
            "align_self": null,
            "border": null,
            "bottom": null,
            "display": null,
            "flex": null,
            "flex_flow": null,
            "grid_area": null,
            "grid_auto_columns": null,
            "grid_auto_flow": null,
            "grid_auto_rows": null,
            "grid_column": null,
            "grid_gap": null,
            "grid_row": null,
            "grid_template_areas": null,
            "grid_template_columns": null,
            "grid_template_rows": null,
            "height": null,
            "justify_content": null,
            "justify_items": null,
            "left": null,
            "margin": null,
            "max_height": null,
            "max_width": null,
            "min_height": null,
            "min_width": null,
            "object_fit": null,
            "object_position": null,
            "order": null,
            "overflow": null,
            "overflow_x": null,
            "overflow_y": null,
            "padding": null,
            "right": null,
            "top": null,
            "visibility": null,
            "width": null
          }
        },
        "8ffd433c311441f9b79d4f148d36c407": {
          "model_module": "@jupyter-widgets/controls",
          "model_name": "DescriptionStyleModel",
          "model_module_version": "1.5.0",
          "state": {
            "_model_module": "@jupyter-widgets/controls",
            "_model_module_version": "1.5.0",
            "_model_name": "DescriptionStyleModel",
            "_view_count": null,
            "_view_module": "@jupyter-widgets/base",
            "_view_module_version": "1.2.0",
            "_view_name": "StyleView",
            "description_width": ""
          }
        },
        "1a5b96a3ad1941b38880a0158c299ead": {
          "model_module": "@jupyter-widgets/base",
          "model_name": "LayoutModel",
          "model_module_version": "1.2.0",
          "state": {
            "_model_module": "@jupyter-widgets/base",
            "_model_module_version": "1.2.0",
            "_model_name": "LayoutModel",
            "_view_count": null,
            "_view_module": "@jupyter-widgets/base",
            "_view_module_version": "1.2.0",
            "_view_name": "LayoutView",
            "align_content": null,
            "align_items": null,
            "align_self": null,
            "border": null,
            "bottom": null,
            "display": null,
            "flex": null,
            "flex_flow": null,
            "grid_area": null,
            "grid_auto_columns": null,
            "grid_auto_flow": null,
            "grid_auto_rows": null,
            "grid_column": null,
            "grid_gap": null,
            "grid_row": null,
            "grid_template_areas": null,
            "grid_template_columns": null,
            "grid_template_rows": null,
            "height": null,
            "justify_content": null,
            "justify_items": null,
            "left": null,
            "margin": null,
            "max_height": null,
            "max_width": null,
            "min_height": null,
            "min_width": null,
            "object_fit": null,
            "object_position": null,
            "order": null,
            "overflow": null,
            "overflow_x": null,
            "overflow_y": null,
            "padding": null,
            "right": null,
            "top": null,
            "visibility": null,
            "width": null
          }
        },
        "1cc544f5d38d4395b5102957ff025b9b": {
          "model_module": "@jupyter-widgets/controls",
          "model_name": "ProgressStyleModel",
          "model_module_version": "1.5.0",
          "state": {
            "_model_module": "@jupyter-widgets/controls",
            "_model_module_version": "1.5.0",
            "_model_name": "ProgressStyleModel",
            "_view_count": null,
            "_view_module": "@jupyter-widgets/base",
            "_view_module_version": "1.2.0",
            "_view_name": "StyleView",
            "bar_color": null,
            "description_width": ""
          }
        },
        "b26752f12c7541f291084c25d6c05c72": {
          "model_module": "@jupyter-widgets/base",
          "model_name": "LayoutModel",
          "model_module_version": "1.2.0",
          "state": {
            "_model_module": "@jupyter-widgets/base",
            "_model_module_version": "1.2.0",
            "_model_name": "LayoutModel",
            "_view_count": null,
            "_view_module": "@jupyter-widgets/base",
            "_view_module_version": "1.2.0",
            "_view_name": "LayoutView",
            "align_content": null,
            "align_items": null,
            "align_self": null,
            "border": null,
            "bottom": null,
            "display": null,
            "flex": null,
            "flex_flow": null,
            "grid_area": null,
            "grid_auto_columns": null,
            "grid_auto_flow": null,
            "grid_auto_rows": null,
            "grid_column": null,
            "grid_gap": null,
            "grid_row": null,
            "grid_template_areas": null,
            "grid_template_columns": null,
            "grid_template_rows": null,
            "height": null,
            "justify_content": null,
            "justify_items": null,
            "left": null,
            "margin": null,
            "max_height": null,
            "max_width": null,
            "min_height": null,
            "min_width": null,
            "object_fit": null,
            "object_position": null,
            "order": null,
            "overflow": null,
            "overflow_x": null,
            "overflow_y": null,
            "padding": null,
            "right": null,
            "top": null,
            "visibility": null,
            "width": null
          }
        },
        "ccda213192264b1a88e84a263a3f4a46": {
          "model_module": "@jupyter-widgets/controls",
          "model_name": "DescriptionStyleModel",
          "model_module_version": "1.5.0",
          "state": {
            "_model_module": "@jupyter-widgets/controls",
            "_model_module_version": "1.5.0",
            "_model_name": "DescriptionStyleModel",
            "_view_count": null,
            "_view_module": "@jupyter-widgets/base",
            "_view_module_version": "1.2.0",
            "_view_name": "StyleView",
            "description_width": ""
          }
        },
        "6db06506144f47de80be14b1779f95cf": {
          "model_module": "@jupyter-widgets/controls",
          "model_name": "HBoxModel",
          "model_module_version": "1.5.0",
          "state": {
            "_dom_classes": [],
            "_model_module": "@jupyter-widgets/controls",
            "_model_module_version": "1.5.0",
            "_model_name": "HBoxModel",
            "_view_count": null,
            "_view_module": "@jupyter-widgets/controls",
            "_view_module_version": "1.5.0",
            "_view_name": "HBoxView",
            "box_style": "",
            "children": [
              "IPY_MODEL_74b0d783756c441084bafe53ff2cba9b",
              "IPY_MODEL_8716f30946d24b8cbdd620186e4c7244",
              "IPY_MODEL_e17d0bdcb98d4a18ba126bc83225e010"
            ],
            "layout": "IPY_MODEL_e845b5a23b9a4c928ae8882b6322947c"
          }
        },
        "74b0d783756c441084bafe53ff2cba9b": {
          "model_module": "@jupyter-widgets/controls",
          "model_name": "HTMLModel",
          "model_module_version": "1.5.0",
          "state": {
            "_dom_classes": [],
            "_model_module": "@jupyter-widgets/controls",
            "_model_module_version": "1.5.0",
            "_model_name": "HTMLModel",
            "_view_count": null,
            "_view_module": "@jupyter-widgets/controls",
            "_view_module_version": "1.5.0",
            "_view_name": "HTMLView",
            "description": "",
            "description_tooltip": null,
            "layout": "IPY_MODEL_6121aa41020649399f4cb8215725a3c6",
            "placeholder": "​",
            "style": "IPY_MODEL_7ea99ddd032b45d9b3ba907beaa11897",
            "value": "Downloading: 100%"
          }
        },
        "8716f30946d24b8cbdd620186e4c7244": {
          "model_module": "@jupyter-widgets/controls",
          "model_name": "FloatProgressModel",
          "model_module_version": "1.5.0",
          "state": {
            "_dom_classes": [],
            "_model_module": "@jupyter-widgets/controls",
            "_model_module_version": "1.5.0",
            "_model_name": "FloatProgressModel",
            "_view_count": null,
            "_view_module": "@jupyter-widgets/controls",
            "_view_module_version": "1.5.0",
            "_view_name": "ProgressView",
            "bar_style": "success",
            "description": "",
            "description_tooltip": null,
            "layout": "IPY_MODEL_dfd1894163734a629052847941b580db",
            "max": 1115590446,
            "min": 0,
            "orientation": "horizontal",
            "style": "IPY_MODEL_96d89daed593478897506c919144ebc8",
            "value": 1115590446
          }
        },
        "e17d0bdcb98d4a18ba126bc83225e010": {
          "model_module": "@jupyter-widgets/controls",
          "model_name": "HTMLModel",
          "model_module_version": "1.5.0",
          "state": {
            "_dom_classes": [],
            "_model_module": "@jupyter-widgets/controls",
            "_model_module_version": "1.5.0",
            "_model_name": "HTMLModel",
            "_view_count": null,
            "_view_module": "@jupyter-widgets/controls",
            "_view_module_version": "1.5.0",
            "_view_name": "HTMLView",
            "description": "",
            "description_tooltip": null,
            "layout": "IPY_MODEL_514e4a972bec4762a1234796cfd5ca01",
            "placeholder": "​",
            "style": "IPY_MODEL_e1b9e5de8d4d47279a89deea37c62263",
            "value": " 1.12G/1.12G [00:33&lt;00:00, 46.3MB/s]"
          }
        },
        "e845b5a23b9a4c928ae8882b6322947c": {
          "model_module": "@jupyter-widgets/base",
          "model_name": "LayoutModel",
          "model_module_version": "1.2.0",
          "state": {
            "_model_module": "@jupyter-widgets/base",
            "_model_module_version": "1.2.0",
            "_model_name": "LayoutModel",
            "_view_count": null,
            "_view_module": "@jupyter-widgets/base",
            "_view_module_version": "1.2.0",
            "_view_name": "LayoutView",
            "align_content": null,
            "align_items": null,
            "align_self": null,
            "border": null,
            "bottom": null,
            "display": null,
            "flex": null,
            "flex_flow": null,
            "grid_area": null,
            "grid_auto_columns": null,
            "grid_auto_flow": null,
            "grid_auto_rows": null,
            "grid_column": null,
            "grid_gap": null,
            "grid_row": null,
            "grid_template_areas": null,
            "grid_template_columns": null,
            "grid_template_rows": null,
            "height": null,
            "justify_content": null,
            "justify_items": null,
            "left": null,
            "margin": null,
            "max_height": null,
            "max_width": null,
            "min_height": null,
            "min_width": null,
            "object_fit": null,
            "object_position": null,
            "order": null,
            "overflow": null,
            "overflow_x": null,
            "overflow_y": null,
            "padding": null,
            "right": null,
            "top": null,
            "visibility": null,
            "width": null
          }
        },
        "6121aa41020649399f4cb8215725a3c6": {
          "model_module": "@jupyter-widgets/base",
          "model_name": "LayoutModel",
          "model_module_version": "1.2.0",
          "state": {
            "_model_module": "@jupyter-widgets/base",
            "_model_module_version": "1.2.0",
            "_model_name": "LayoutModel",
            "_view_count": null,
            "_view_module": "@jupyter-widgets/base",
            "_view_module_version": "1.2.0",
            "_view_name": "LayoutView",
            "align_content": null,
            "align_items": null,
            "align_self": null,
            "border": null,
            "bottom": null,
            "display": null,
            "flex": null,
            "flex_flow": null,
            "grid_area": null,
            "grid_auto_columns": null,
            "grid_auto_flow": null,
            "grid_auto_rows": null,
            "grid_column": null,
            "grid_gap": null,
            "grid_row": null,
            "grid_template_areas": null,
            "grid_template_columns": null,
            "grid_template_rows": null,
            "height": null,
            "justify_content": null,
            "justify_items": null,
            "left": null,
            "margin": null,
            "max_height": null,
            "max_width": null,
            "min_height": null,
            "min_width": null,
            "object_fit": null,
            "object_position": null,
            "order": null,
            "overflow": null,
            "overflow_x": null,
            "overflow_y": null,
            "padding": null,
            "right": null,
            "top": null,
            "visibility": null,
            "width": null
          }
        },
        "7ea99ddd032b45d9b3ba907beaa11897": {
          "model_module": "@jupyter-widgets/controls",
          "model_name": "DescriptionStyleModel",
          "model_module_version": "1.5.0",
          "state": {
            "_model_module": "@jupyter-widgets/controls",
            "_model_module_version": "1.5.0",
            "_model_name": "DescriptionStyleModel",
            "_view_count": null,
            "_view_module": "@jupyter-widgets/base",
            "_view_module_version": "1.2.0",
            "_view_name": "StyleView",
            "description_width": ""
          }
        },
        "dfd1894163734a629052847941b580db": {
          "model_module": "@jupyter-widgets/base",
          "model_name": "LayoutModel",
          "model_module_version": "1.2.0",
          "state": {
            "_model_module": "@jupyter-widgets/base",
            "_model_module_version": "1.2.0",
            "_model_name": "LayoutModel",
            "_view_count": null,
            "_view_module": "@jupyter-widgets/base",
            "_view_module_version": "1.2.0",
            "_view_name": "LayoutView",
            "align_content": null,
            "align_items": null,
            "align_self": null,
            "border": null,
            "bottom": null,
            "display": null,
            "flex": null,
            "flex_flow": null,
            "grid_area": null,
            "grid_auto_columns": null,
            "grid_auto_flow": null,
            "grid_auto_rows": null,
            "grid_column": null,
            "grid_gap": null,
            "grid_row": null,
            "grid_template_areas": null,
            "grid_template_columns": null,
            "grid_template_rows": null,
            "height": null,
            "justify_content": null,
            "justify_items": null,
            "left": null,
            "margin": null,
            "max_height": null,
            "max_width": null,
            "min_height": null,
            "min_width": null,
            "object_fit": null,
            "object_position": null,
            "order": null,
            "overflow": null,
            "overflow_x": null,
            "overflow_y": null,
            "padding": null,
            "right": null,
            "top": null,
            "visibility": null,
            "width": null
          }
        },
        "96d89daed593478897506c919144ebc8": {
          "model_module": "@jupyter-widgets/controls",
          "model_name": "ProgressStyleModel",
          "model_module_version": "1.5.0",
          "state": {
            "_model_module": "@jupyter-widgets/controls",
            "_model_module_version": "1.5.0",
            "_model_name": "ProgressStyleModel",
            "_view_count": null,
            "_view_module": "@jupyter-widgets/base",
            "_view_module_version": "1.2.0",
            "_view_name": "StyleView",
            "bar_color": null,
            "description_width": ""
          }
        },
        "514e4a972bec4762a1234796cfd5ca01": {
          "model_module": "@jupyter-widgets/base",
          "model_name": "LayoutModel",
          "model_module_version": "1.2.0",
          "state": {
            "_model_module": "@jupyter-widgets/base",
            "_model_module_version": "1.2.0",
            "_model_name": "LayoutModel",
            "_view_count": null,
            "_view_module": "@jupyter-widgets/base",
            "_view_module_version": "1.2.0",
            "_view_name": "LayoutView",
            "align_content": null,
            "align_items": null,
            "align_self": null,
            "border": null,
            "bottom": null,
            "display": null,
            "flex": null,
            "flex_flow": null,
            "grid_area": null,
            "grid_auto_columns": null,
            "grid_auto_flow": null,
            "grid_auto_rows": null,
            "grid_column": null,
            "grid_gap": null,
            "grid_row": null,
            "grid_template_areas": null,
            "grid_template_columns": null,
            "grid_template_rows": null,
            "height": null,
            "justify_content": null,
            "justify_items": null,
            "left": null,
            "margin": null,
            "max_height": null,
            "max_width": null,
            "min_height": null,
            "min_width": null,
            "object_fit": null,
            "object_position": null,
            "order": null,
            "overflow": null,
            "overflow_x": null,
            "overflow_y": null,
            "padding": null,
            "right": null,
            "top": null,
            "visibility": null,
            "width": null
          }
        },
        "e1b9e5de8d4d47279a89deea37c62263": {
          "model_module": "@jupyter-widgets/controls",
          "model_name": "DescriptionStyleModel",
          "model_module_version": "1.5.0",
          "state": {
            "_model_module": "@jupyter-widgets/controls",
            "_model_module_version": "1.5.0",
            "_model_name": "DescriptionStyleModel",
            "_view_count": null,
            "_view_module": "@jupyter-widgets/base",
            "_view_module_version": "1.2.0",
            "_view_name": "StyleView",
            "description_width": ""
          }
        }
      }
    }
  },
  "cells": [
    {
      "cell_type": "markdown",
      "source": [
        "#### **Trankit:**"
      ],
      "metadata": {
        "id": "owL0NAJnOrQw"
      }
    },
    {
      "cell_type": "markdown",
      "source": [
        " **Introduction:**\n",
        "A Light-Weight Transformer-based Python Toolkit for Multilingual Natural Language Processing\n",
        "\n",
        "\n",
        "*   [GitHub Repo](https://github.com/nlp-uoregon/trankit)\n",
        "\n",
        "*   [Documentation](https://trankit.readthedocs.io/en/latest/#)\n",
        "\n",
        "*   [Demo Website](http://nlp.uoregon.edu/trankit)\n",
        "\n",
        "**Usage:**\n",
        "Trankit can process inputs which are untokenized (raw) or pretokenized strings, at both sentence and document level. Currently, Trankit supports the following tasks:\n",
        "\n",
        "1. Sentence segmentation\n",
        "2. Tokenization\n",
        "3. Multi-word token expansion\n",
        "4. Part-of-speech tagging\n",
        "5. Morphological feature tagging\n",
        "6. **Dependency parsing**\n",
        "7. Named entity recognition\n",
        "\n",
        "**Customized pipeline:**\n",
        "Training customized pipelines with Trankit via the class TPipeline. [Documentation](https://trankit.readthedocs.io/en/latest/training.html#training-a-joint-model-for-part-of-speech-tagging-morphologicial-feature-tagging-and-dependency-parsing) for creating customized pipeline.\n",
        "\n",
        "**CoNLL-U Format:**\n",
        "The entire documentation is available at [CoNLL-U Format](https://universaldependencies.org/format.html). Sentences consist of one or more word lines, and word lines contain the following fields:\n",
        "\n",
        "1. **ID:** Word index, integer starting at 1 for each new sentence; may be a range for multiword tokens; may be a decimal number for empty nodes (decimal numbers can be lower than 1 but must be greater than 0).\n",
        "2. **FORM:** Word form or punctuation symbol.\n",
        "3. **LEMMA:** Lemma or stem of word form.\n",
        "4. **UPOS:** Universal part-of-speech tag.\n",
        "5. **XPOS:** Language-specific part-of-speech tag; underscore if not available.\n",
        "6. **FEATS:** List of morphological features from the universal feature inventory or from a defined language-specific extension; underscore if not available.\n",
        "7. **HEAD:** Head of the current word, which is either a value of ID or zero (0).\n",
        "8. **DEPREL:** Universal dependency relation to the HEAD (root iff HEAD = 0) or a defined language-specific subtype of one.\n",
        "9. **DEPS:** Enhanced dependency graph in the form of a list of head-deprel pairs.\n",
        "10. **MISC:** Any other annotation."
      ],
      "metadata": {
        "id": "ZK3GGI-hJwpO"
      }
    },
    {
      "cell_type": "code",
      "source": [],
      "metadata": {
        "id": "KUcGquDTFLUT"
      },
      "execution_count": null,
      "outputs": []
    },
    {
      "cell_type": "markdown",
      "source": [
        "#### **Installation:**"
      ],
      "metadata": {
        "id": "OQ_tpxt-JRjD"
      }
    },
    {
      "cell_type": "code",
      "execution_count": null,
      "metadata": {
        "id": "QK4wIZuo6I8H"
      },
      "outputs": [],
      "source": [
        "%%capture\n",
        "!pip install transformers\n",
        "!pip install trankit"
      ]
    },
    {
      "cell_type": "markdown",
      "source": [
        "* **Working Directory:**"
      ],
      "metadata": {
        "id": "EYApPhyRQAW2"
      }
    },
    {
      "cell_type": "code",
      "source": [
        "%cd '/content/drive/MyDrive/btp_trankit'\n",
        "!ls"
      ],
      "metadata": {
        "colab": {
          "base_uri": "https://localhost:8080/"
        },
        "id": "o5RTT-c56QRU",
        "outputId": "366a33a4-a48d-4e48-fe6d-118903f98532"
      },
      "execution_count": null,
      "outputs": [
        {
          "output_type": "stream",
          "name": "stdout",
          "text": [
            "/content/drive/MyDrive/btp_trankit\n",
            "btp_trankit\t\t news_articles_and_heritage  test-conllu.dat.filtered\n",
            "dev-conllu.dat\t\t save_dir_filtered\t     train-conllu.dat\n",
            "dev-conllu.dat.filtered  test-conllu.dat\t     train-conllu.dat.filtered\n"
          ]
        }
      ]
    },
    {
      "cell_type": "markdown",
      "source": [
        "* **Merge dev, train, test files:**"
      ],
      "metadata": {
        "id": "tliasy0gQHfA"
      }
    },
    {
      "cell_type": "code",
      "source": [
        "import glob\n",
        "read_files = glob.glob('*.dat')\n",
        "with open('dev-conllu.dat', 'wb') as outfile:\n",
        "  for f in read_files:\n",
        "    with open(f, 'rb') as infile:\n",
        "      outfile.write(infile.read())"
      ],
      "metadata": {
        "id": "1BkCl5_eLfh6"
      },
      "execution_count": null,
      "outputs": []
    },
    {
      "cell_type": "markdown",
      "source": [
        "* **Filtering CoNLL-U files:**"
      ],
      "metadata": {
        "id": "mfX1WmXRRCP_"
      }
    },
    {
      "cell_type": "code",
      "source": [
        "!cat train-conllu.dat | grep -v '^\\#' | sed 's/[a-z]*$//' > train-conllu.dat.filtered\n",
        "!cat dev-conllu.dat | grep -v '^\\#' | sed 's/[a-z]*$//' > dev-conllu.dat.filtered\n",
        "!cat test-conllu.dat | grep -v '^\\#' | sed 's/[a-z]*$//' > test-conllu.dat.filtered"
      ],
      "metadata": {
        "id": "2-iP9yqN6fn5"
      },
      "execution_count": null,
      "outputs": []
    },
    {
      "cell_type": "markdown",
      "source": [
        "#### **Custom Pipeline:**"
      ],
      "metadata": {
        "id": "Lp1oMLQYSRS7"
      }
    },
    {
      "cell_type": "markdown",
      "source": [
        "* **Setup:**"
      ],
      "metadata": {
        "id": "D4npmpjaSXG2"
      }
    },
    {
      "cell_type": "code",
      "source": [
        "import trankit\n",
        "\n",
        "# initialize a trainer for the task\n",
        "trainer = trankit.TPipeline(\n",
        "    training_config = { \n",
        "    'language': 'hindi', # language of data\n",
        "    'max_epoch': 5, # epoch count\n",
        "    'category': 'customized', # pipeline category\n",
        "    'task': 'posdep', # task name\n",
        "    'save_dir': './save_dir_filtered', # directory for saving trained model\n",
        "    'train_conllu_fpath': './train-conllu.dat.filtered', # annotations file in CONLLU format  for training\n",
        "    'dev_conllu_fpath': './dev-conllu.dat.filtered' # annotations file in CONLLU format for development\n",
        "    }\n",
        ")"
      ],
      "metadata": {
        "colab": {
          "base_uri": "https://localhost:8080/",
          "height": 101,
          "referenced_widgets": [
            "4a849fbcddc64bc2b05fed9e4bc989aa",
            "5bafba940bca4802a88e42db75d9290d",
            "9531c383dc3245b296f116dcd00f00b2",
            "80ab7729bab94c6baf9f93e2e44e76ad",
            "3540ccc925eb4b7892a4df66e39b2026",
            "8ddfd6913c7e40c3b93a0d1a23266188",
            "8ffd433c311441f9b79d4f148d36c407",
            "1a5b96a3ad1941b38880a0158c299ead",
            "1cc544f5d38d4395b5102957ff025b9b",
            "b26752f12c7541f291084c25d6c05c72",
            "ccda213192264b1a88e84a263a3f4a46"
          ]
        },
        "id": "UJLpYxYz7GKS",
        "outputId": "a2c004c1-b349-4d92-89c3-7f6986a7b034"
      },
      "execution_count": null,
      "outputs": [
        {
          "output_type": "stream",
          "name": "stdout",
          "text": [
            "Setting up training config...\n",
            "Loaded 15081 entries from ./train-conllu.dat.filtered\n",
            "Loaded 1864 entries from ./dev-conllu.dat.filtered\n"
          ]
        },
        {
          "output_type": "display_data",
          "data": {
            "text/plain": [
              "Downloading:   0%|          | 0.00/1.12G [00:00<?, ?B/s]"
            ],
            "application/vnd.jupyter.widget-view+json": {
              "version_major": 2,
              "version_minor": 0,
              "model_id": "4a849fbcddc64bc2b05fed9e4bc989aa"
            }
          },
          "metadata": {}
        }
      ]
    },
    {
      "cell_type": "markdown",
      "source": [
        "* **Training:**"
      ],
      "metadata": {
        "id": "al98v_a_TlSW"
      }
    },
    {
      "cell_type": "code",
      "source": [
        "trainer.train()"
      ],
      "metadata": {
        "colab": {
          "base_uri": "https://localhost:8080/"
        },
        "id": "-Xq3mQxETiOY",
        "outputId": "d2c37342-de52-4447-9edc-cda720bbab57"
      },
      "execution_count": null,
      "outputs": [
        {
          "output_type": "stream",
          "name": "stdout",
          "text": [
            "******************************\n",
            "Posdep tagger: Epoch: 0\n"
          ]
        },
        {
          "output_type": "stream",
          "name": "stderr",
          "text": [
            "Train 0: 943it [01:14, 12.74it/s]                                          \n",
            "dev 0: 100%|█████████████████████████████| 117/117 [00:04<00:00, 24.57it/s]\n"
          ]
        },
        {
          "output_type": "stream",
          "name": "stdout",
          "text": [
            "Saving adapter weights to ... ./save_dir_filtered/xlm-roberta-base/customized/customized.tagger.mdl (44.97 MB)\n",
            "------------------------------ Best dev CoNLLu score: epoch 0------------------------------\n",
            "Metric     | Precision |    Recall |  F1 Score | AligndAcc\n",
            "-----------+-----------+-----------+-----------+-----------\n",
            "Tokens     |    100.00 |    100.00 |    100.00 |\n",
            "Sentences  |    100.00 |    100.00 |    100.00 |\n",
            "Words      |    100.00 |    100.00 |    100.00 |\n",
            "UPOS       |     96.30 |     96.30 |     96.30 |     96.30\n",
            "XPOS       |     91.76 |     91.76 |     91.76 |     91.76\n",
            "UFeats     |    100.00 |    100.00 |    100.00 |    100.00\n",
            "AllTags    |     91.62 |     91.62 |     91.62 |     91.62\n",
            "Lemmas     |      0.00 |      0.00 |      0.00 |      0.00\n",
            "UAS        |     74.20 |     74.20 |     74.20 |     74.20\n",
            "LAS        |     60.32 |     60.32 |     60.32 |     60.32\n",
            "CLAS       |     42.00 |     18.29 |     25.48 |     18.29\n",
            "MLAS       |     39.67 |     17.27 |     24.06 |     17.27\n",
            "BLEX       |      0.00 |      0.00 |      0.00 |      0.00\n",
            "\n",
            "******************************\n",
            "Posdep tagger: Epoch: 1\n"
          ]
        },
        {
          "output_type": "stream",
          "name": "stderr",
          "text": [
            "Train 1: 943it [01:13, 12.87it/s]                                          \n",
            "dev 1: 100%|█████████████████████████████| 117/117 [00:04<00:00, 24.90it/s]\n"
          ]
        },
        {
          "output_type": "stream",
          "name": "stdout",
          "text": [
            "Saving adapter weights to ... ./save_dir_filtered/xlm-roberta-base/customized/customized.tagger.mdl (44.97 MB)\n",
            "------------------------------ Best dev CoNLLu score: epoch 1------------------------------\n",
            "Metric     | Precision |    Recall |  F1 Score | AligndAcc\n",
            "-----------+-----------+-----------+-----------+-----------\n",
            "Tokens     |    100.00 |    100.00 |    100.00 |\n",
            "Sentences  |    100.00 |    100.00 |    100.00 |\n",
            "Words      |    100.00 |    100.00 |    100.00 |\n",
            "UPOS       |     98.39 |     98.39 |     98.39 |     98.39\n",
            "XPOS       |     94.71 |     94.71 |     94.71 |     94.71\n",
            "UFeats     |    100.00 |    100.00 |    100.00 |    100.00\n",
            "AllTags    |     94.60 |     94.60 |     94.60 |     94.60\n",
            "Lemmas     |      0.00 |      0.00 |      0.00 |      0.00\n",
            "UAS        |     85.79 |     85.79 |     85.79 |     85.79\n",
            "LAS        |     73.31 |     73.31 |     73.31 |     73.31\n",
            "CLAS       |     68.75 |     44.70 |     54.18 |     44.70\n",
            "MLAS       |     68.53 |     44.56 |     54.00 |     44.56\n",
            "BLEX       |      0.00 |      0.00 |      0.00 |      0.00\n",
            "\n",
            "******************************\n",
            "Posdep tagger: Epoch: 2\n"
          ]
        },
        {
          "output_type": "stream",
          "name": "stderr",
          "text": [
            "Train 2: 943it [01:12, 13.07it/s]\n",
            "dev 2: 100%|█████████████████████████████| 117/117 [00:04<00:00, 25.32it/s]\n"
          ]
        },
        {
          "output_type": "stream",
          "name": "stdout",
          "text": [
            "Saving adapter weights to ... ./save_dir_filtered/xlm-roberta-base/customized/customized.tagger.mdl (44.97 MB)\n",
            "------------------------------ Best dev CoNLLu score: epoch 2------------------------------\n",
            "Metric     | Precision |    Recall |  F1 Score | AligndAcc\n",
            "-----------+-----------+-----------+-----------+-----------\n",
            "Tokens     |    100.00 |    100.00 |    100.00 |\n",
            "Sentences  |    100.00 |    100.00 |    100.00 |\n",
            "Words      |    100.00 |    100.00 |    100.00 |\n",
            "UPOS       |     98.80 |     98.80 |     98.80 |     98.80\n",
            "XPOS       |     95.60 |     95.60 |     95.60 |     95.60\n",
            "UFeats     |    100.00 |    100.00 |    100.00 |    100.00\n",
            "AllTags    |     95.52 |     95.52 |     95.52 |     95.52\n",
            "Lemmas     |      0.00 |      0.00 |      0.00 |      0.00\n",
            "UAS        |     87.92 |     87.92 |     87.92 |     87.92\n",
            "LAS        |     75.85 |     75.85 |     75.85 |     75.85\n",
            "CLAS       |     71.40 |     52.54 |     60.54 |     52.54\n",
            "MLAS       |     71.40 |     52.54 |     60.54 |     52.54\n",
            "BLEX       |      0.00 |      0.00 |      0.00 |      0.00\n",
            "\n",
            "******************************\n",
            "Posdep tagger: Epoch: 3\n"
          ]
        },
        {
          "output_type": "stream",
          "name": "stderr",
          "text": [
            "Train 3: 943it [01:14, 12.58it/s]\n",
            "dev 3: 100%|█████████████████████████████| 117/117 [00:04<00:00, 24.74it/s]\n"
          ]
        },
        {
          "output_type": "stream",
          "name": "stdout",
          "text": [
            "Saving adapter weights to ... ./save_dir_filtered/xlm-roberta-base/customized/customized.tagger.mdl (44.97 MB)\n",
            "------------------------------ Best dev CoNLLu score: epoch 3------------------------------\n",
            "Metric     | Precision |    Recall |  F1 Score | AligndAcc\n",
            "-----------+-----------+-----------+-----------+-----------\n",
            "Tokens     |    100.00 |    100.00 |    100.00 |\n",
            "Sentences  |    100.00 |    100.00 |    100.00 |\n",
            "Words      |    100.00 |    100.00 |    100.00 |\n",
            "UPOS       |     98.85 |     98.85 |     98.85 |     98.85\n",
            "XPOS       |     95.79 |     95.79 |     95.79 |     95.79\n",
            "UFeats     |    100.00 |    100.00 |    100.00 |    100.00\n",
            "AllTags    |     95.65 |     95.65 |     95.65 |     95.65\n",
            "Lemmas     |      0.00 |      0.00 |      0.00 |      0.00\n",
            "UAS        |     88.19 |     88.19 |     88.19 |     88.19\n",
            "LAS        |     76.28 |     76.28 |     76.28 |     76.28\n",
            "CLAS       |     71.37 |     50.65 |     59.25 |     50.65\n",
            "MLAS       |     70.96 |     50.36 |     58.91 |     50.36\n",
            "BLEX       |      0.00 |      0.00 |      0.00 |      0.00\n",
            "\n",
            "******************************\n",
            "Posdep tagger: Epoch: 4\n"
          ]
        },
        {
          "output_type": "stream",
          "name": "stderr",
          "text": [
            "Train 4: 943it [01:14, 12.74it/s]                                          \n",
            "dev 4: 100%|█████████████████████████████| 117/117 [00:04<00:00, 25.47it/s]\n"
          ]
        },
        {
          "output_type": "stream",
          "name": "stdout",
          "text": [
            "Saving adapter weights to ... ./save_dir_filtered/xlm-roberta-base/customized/customized.tagger.mdl (44.97 MB)\n",
            "------------------------------ Best dev CoNLLu score: epoch 4------------------------------\n",
            "Metric     | Precision |    Recall |  F1 Score | AligndAcc\n",
            "-----------+-----------+-----------+-----------+-----------\n",
            "Tokens     |    100.00 |    100.00 |    100.00 |\n",
            "Sentences  |    100.00 |    100.00 |    100.00 |\n",
            "Words      |    100.00 |    100.00 |    100.00 |\n",
            "UPOS       |     98.99 |     98.99 |     98.99 |     98.99\n",
            "XPOS       |     96.06 |     96.06 |     96.06 |     96.06\n",
            "UFeats     |    100.00 |    100.00 |    100.00 |    100.00\n",
            "AllTags    |     95.96 |     95.96 |     95.96 |     95.96\n",
            "Lemmas     |      0.00 |      0.00 |      0.00 |      0.00\n",
            "UAS        |     88.44 |     88.44 |     88.44 |     88.44\n",
            "LAS        |     76.96 |     76.96 |     76.96 |     76.96\n",
            "CLAS       |     68.88 |     55.59 |     61.53 |     55.59\n",
            "MLAS       |     68.17 |     55.01 |     60.88 |     55.01\n",
            "BLEX       |      0.00 |      0.00 |      0.00 |      0.00\n",
            "\n"
          ]
        }
      ]
    },
    {
      "cell_type": "markdown",
      "source": [
        "* **Creating custom Pipeline:**"
      ],
      "metadata": {
        "id": "8d-527GEEFa5"
      }
    },
    {
      "cell_type": "code",
      "source": [
        "trankit.download_missing_files(\n",
        "\tcategory='customized', \n",
        "\tsave_dir='./save_dir_filtered', \n",
        "\tembedding_name='xlm-roberta-base', \n",
        "\tlanguage='hindi'\n",
        ")"
      ],
      "metadata": {
        "colab": {
          "base_uri": "https://localhost:8080/"
        },
        "id": "aQnxNlewnnub",
        "outputId": "853454c5-fd0b-46f1-ae49-99c5d6c7e5c6"
      },
      "execution_count": null,
      "outputs": [
        {
          "output_type": "stream",
          "name": "stdout",
          "text": [
            "http://nlp.uoregon.edu/download/trankit/v1.0.0/xlm-roberta-base/hindi.zip\n"
          ]
        },
        {
          "output_type": "stream",
          "name": "stderr",
          "text": [
            "Downloading: 100%|██████████| 27.1M/27.1M [00:02<00:00, 9.45MiB/s]\n"
          ]
        }
      ]
    },
    {
      "cell_type": "markdown",
      "source": [
        "* **Loading Pipeline:**"
      ],
      "metadata": {
        "id": "Uhso4wR2EQdE"
      }
    },
    {
      "cell_type": "code",
      "source": [
        "import trankit\n",
        "trankit.verify_customized_pipeline(\n",
        "    category='customized', # pipeline category\n",
        "    save_dir='./save_dir_filtered', # directory used for saving models in previous steps\n",
        "    embedding_name='xlm-roberta-base' # embedding version that we use for training our customized pipeline, by default, it is `xlm-roberta-base`\n",
        ")"
      ],
      "metadata": {
        "colab": {
          "base_uri": "https://localhost:8080/"
        },
        "id": "r4MX5qQdnFdx",
        "outputId": "6804744d-69df-4aab-c338-02a21fc30cc2"
      },
      "execution_count": null,
      "outputs": [
        {
          "output_type": "stream",
          "name": "stdout",
          "text": [
            "Customized pipeline is ready to use!\n",
            "It can be initialized as follows:\n",
            "-----------------------------------\n",
            "from trankit import Pipeline\n",
            "p = Pipeline(lang='customized', cache_dir='./save_dir_filtered')\n"
          ]
        }
      ]
    },
    {
      "cell_type": "code",
      "source": [
        "from trankit import Pipeline\n",
        "p = Pipeline(lang='customized', cache_dir='./save_dir_filtered')"
      ],
      "metadata": {
        "colab": {
          "base_uri": "https://localhost:8080/",
          "height": 170,
          "referenced_widgets": [
            "6db06506144f47de80be14b1779f95cf",
            "74b0d783756c441084bafe53ff2cba9b",
            "8716f30946d24b8cbdd620186e4c7244",
            "e17d0bdcb98d4a18ba126bc83225e010",
            "e845b5a23b9a4c928ae8882b6322947c",
            "6121aa41020649399f4cb8215725a3c6",
            "7ea99ddd032b45d9b3ba907beaa11897",
            "dfd1894163734a629052847941b580db",
            "96d89daed593478897506c919144ebc8",
            "514e4a972bec4762a1234796cfd5ca01",
            "e1b9e5de8d4d47279a89deea37c62263"
          ]
        },
        "id": "8lTlX0QaBxp8",
        "outputId": "a7b6b644-1642-4e47-b5fa-6f6c185f53d6"
      },
      "execution_count": null,
      "outputs": [
        {
          "output_type": "stream",
          "name": "stdout",
          "text": [
            "Loading pretrained XLM-Roberta, this may take a while...\n"
          ]
        },
        {
          "output_type": "display_data",
          "data": {
            "text/plain": [
              "Downloading:   0%|          | 0.00/1.12G [00:00<?, ?B/s]"
            ],
            "application/vnd.jupyter.widget-view+json": {
              "version_major": 2,
              "version_minor": 0,
              "model_id": "6db06506144f47de80be14b1779f95cf"
            }
          },
          "metadata": {}
        },
        {
          "output_type": "stream",
          "name": "stdout",
          "text": [
            "Loading tokenizer for customized\n",
            "Loading tagger for customized\n",
            "Loading lemmatizer for customized\n",
            "==================================================\n",
            "Active language: customized\n",
            "==================================================\n"
          ]
        }
      ]
    },
    {
      "cell_type": "markdown",
      "source": [
        "#### **Testing Pipeline:**"
      ],
      "metadata": {
        "id": "wFtKegeOEuxe"
      }
    },
    {
      "cell_type": "code",
      "source": [
        "sent_text = 'इसके कुंड गुफा तथा भीमशिला स्थल हैं ।'\n",
        "tokens = p.posdep(sent_text, is_sent=True)"
      ],
      "metadata": {
        "id": "5Kk8D8uCCNzj"
      },
      "execution_count": null,
      "outputs": []
    },
    {
      "cell_type": "markdown",
      "source": [
        "* **Actual Tokens:**\n",
        "\n",
        "* {'id': 1,\n",
        "   'text': 'इसके',\n",
        "   'upos': 'pn',\n",
        "   'xpos': 'PRP',\n",
        "   'feats': 'cat-pn|gen-any|num-sg|pers-3|case-o|vib-0_अतिरिक्त|tam-ke|chunkId-NP|stype-|voicetype-',\n",
        "   'head': 7,\n",
        "   'deprel': 'vmod',\n",
        "   'lemma': 'यह'}\n",
        "\n",
        "* {'id': 2,\n",
        "   'text': 'कुंड',\n",
        "   'upos': 'n',\n",
        "   'xpos': 'NNP',\n",
        "   'feats': 'cat-n|gen-m|num-sg|pers-3|case-d|vib-0|tam-0|chunkId-NP2|stype-|voicetype-',\n",
        "   'head': 4,\n",
        "   'deprel': 'ccof',\n",
        "   'lemma': 'कुंड'}\n",
        "\n",
        "* {'id': 3,\n",
        "   'text': 'गुफा',\n",
        "   'upos': 'n',\n",
        "   'xpos': 'NNP',\n",
        "   'feats': 'cat-n|gen-f|num-sg|pers-3|case-d|vib-0|tam-0|chunkId-NP3|stype-|voicetype-',\n",
        "   'head': 4,\n",
        "   'deprel': 'ccof',\n",
        "   'lemma': 'गुफा'}\n",
        "\n",
        "* {'id': 4,\n",
        "   'text': 'तथा',\n",
        "   'upos': 'avy',\n",
        "   'xpos': 'CC',\n",
        "   'feats': 'cat-avy|gen-|num-|pers-|case-|vib-|tam-|chunkId-CCP|stype-|voicetype-',\n",
        "   'head': 7,\n",
        "   'deprel': 'k1',\n",
        "   'lemma': 'तथा'}\n",
        "\n",
        "* {'id': 5,\n",
        "   'text': 'भीमशिला',\n",
        "   'upos': 'n',\n",
        "   'xpos': 'NNP',\n",
        "   'feats': 'cat-n|gen-f|num-sg|pers-3|case-d|vib-0|tam-0|chunkId-NP4|stype-|voicetype-',\n",
        "   'head': 4,\n",
        "   'deprel': 'ccof',\n",
        "   'lemma': 'भीमशिला'}\n",
        "\n",
        "* {'id': 6,\n",
        "   'text': 'स्थल',\n",
        "   'upos': 'n',\n",
        "   'xpos': 'NN',\n",
        "   'feats': 'cat-n|gen-m|num-pl|pers-3|case-d|vib-0|tam-0|chunkId-NP5|stype-|voicetype-',\n",
        "   'head': 7,\n",
        "   'deprel': 'k1s',\n",
        "   'lemma': 'स्थल'}\n",
        "\n",
        "* {'id': 7,\n",
        "   'text': 'हैं',\n",
        "   'upos': 'v',\n",
        "   'xpos': 'VM',\n",
        "   'feats': 'cat-v|gen-any|num-pl|pers-3|case-|vib-है|tam-hE|chunkId-VGF|stype-declarative|voicetype-active',\n",
        "   'head': 0,\n",
        "   'deprel': 'main',\n",
        "   'lemma': 'है'}\n",
        "\n",
        "* {'id': 8,\n",
        "   'text': '।',\n",
        "   'upos': 'punc',\n",
        "   'xpos': 'SYM',\n",
        "   'feats': 'cat-punc|gen-|num-|pers-|case-|vib-|tam-|chunkId-BLK|stype-|voicetype-',\n",
        "   'head': 7,\n",
        "   'deprel': 'rsym',\n",
        "   'lemma': '।'}]"
      ],
      "metadata": {
        "id": "oBYYQb9bE12q"
      }
    },
    {
      "cell_type": "markdown",
      "source": [
        "* **Predicted Tokens:**"
      ],
      "metadata": {
        "id": "ViCoDD5PGn7V"
      }
    },
    {
      "cell_type": "code",
      "source": [
        "tokens"
      ],
      "metadata": {
        "colab": {
          "base_uri": "https://localhost:8080/"
        },
        "id": "cw0jnMWGC1g1",
        "outputId": "2c171c94-8fa1-468b-8ac7-5155b4a323b0"
      },
      "execution_count": null,
      "outputs": [
        {
          "output_type": "execute_result",
          "data": {
            "text/plain": [
              "{'text': 'इसके कुंड गुफा तथा भीमशिला स्थल हैं ।',\n",
              " 'tokens': [{'id': 1,\n",
              "   'text': 'इसके',\n",
              "   'upos': 'pn',\n",
              "   'xpos': 'PRP',\n",
              "   'feats': 'cat-pn|gen-any|num-sg|pers-3|case-o|vib-0_अलावा|tam-ke|chunkId-NP|stype-|voicetype-',\n",
              "   'head': 7,\n",
              "   'deprel': 'vmod',\n",
              "   'span': (0, 4)},\n",
              "  {'id': 2,\n",
              "   'text': 'कुंड',\n",
              "   'upos': 'n',\n",
              "   'xpos': 'NN',\n",
              "   'feats': 'cat-n|gen-m|num-sg|pers-3|case-d|vib-0|tam-0|chunkId-NP2|stype-|voicetype-',\n",
              "   'head': 4,\n",
              "   'deprel': 'ccof',\n",
              "   'span': (5, 9)},\n",
              "  {'id': 3,\n",
              "   'text': 'गुफा',\n",
              "   'upos': 'n',\n",
              "   'xpos': 'NN',\n",
              "   'feats': 'cat-n|gen-f|num-sg|pers-3|case-o|vib-0|tam-0|chunkId-NP3|stype-|voicetype-',\n",
              "   'head': 4,\n",
              "   'deprel': 'ccof',\n",
              "   'span': (10, 14)},\n",
              "  {'id': 4,\n",
              "   'text': 'तथा',\n",
              "   'upos': 'avy',\n",
              "   'xpos': 'CC',\n",
              "   'feats': 'cat-avy|gen-|num-|pers-|case-|vib-|tam-|chunkId-CCP|stype-|voicetype-',\n",
              "   'head': 7,\n",
              "   'deprel': 'k1',\n",
              "   'span': (15, 18)},\n",
              "  {'id': 5,\n",
              "   'text': 'भीमशिला',\n",
              "   'upos': 'n',\n",
              "   'xpos': 'NNP',\n",
              "   'feats': 'cat-n|gen-f|num-sg|pers-3|case-o|vib-0_का|tam-0|chunkId-NP4|stype-|voicetype-',\n",
              "   'head': 4,\n",
              "   'deprel': 'ccof',\n",
              "   'span': (19, 26)},\n",
              "  {'id': 6,\n",
              "   'text': 'स्थल',\n",
              "   'upos': 'n',\n",
              "   'xpos': 'NN',\n",
              "   'feats': 'cat-n|gen-m|num-pl|pers-3|case-d|vib-0|tam-0|chunkId-NP4|stype-|voicetype-',\n",
              "   'head': 7,\n",
              "   'deprel': 'k1s',\n",
              "   'span': (27, 31)},\n",
              "  {'id': 7,\n",
              "   'text': 'हैं',\n",
              "   'upos': 'v',\n",
              "   'xpos': 'VM',\n",
              "   'feats': 'cat-v|gen-any|num-pl|pers-3|case-|vib-है|tam-hE|chunkId-VGF|stype-declarative|voicetype-active',\n",
              "   'head': 0,\n",
              "   'deprel': 'main',\n",
              "   'span': (32, 35)},\n",
              "  {'id': 8,\n",
              "   'text': '।',\n",
              "   'upos': 'punc',\n",
              "   'xpos': 'SYM',\n",
              "   'feats': 'cat-punc|gen-|num-|pers-|case-|vib-|tam-|chunkId-BLK|stype-|voicetype-',\n",
              "   'head': 7,\n",
              "   'deprel': 'rsym',\n",
              "   'span': (36, 37)}],\n",
              " 'lang': 'customized'}"
            ]
          },
          "metadata": {},
          "execution_count": 10
        }
      ]
    },
    {
      "cell_type": "markdown",
      "source": [
        "* **Test Set:**"
      ],
      "metadata": {
        "id": "Y6qT6OykSNtD"
      }
    },
    {
      "cell_type": "code",
      "source": [
        "from trankit.iterators.tagger_iterators import TaggerDataset\n",
        "test_set = TaggerDataset(\n",
        "    config=trainer._config,\n",
        "    input_conllu='./test-conllu.dat.filtered',\n",
        "    gold_conllu='./test-conllu.dat.filtered',\n",
        "    evaluate=True\n",
        ")\n",
        "test_set.numberize()\n",
        "test_batch_num = len(test_set) // trainer._config.batch_size + (len(test_set) % trainer._config.batch_size != 0)\n",
        "result = trainer._eval_posdep(data_set=test_set, batch_num=test_batch_num, name='test', epoch=-1)"
      ],
      "metadata": {
        "id": "N4SUAv6NHlBs",
        "colab": {
          "base_uri": "https://localhost:8080/",
          "height": 415
        },
        "outputId": "a8b755bb-1e52-4c17-8de1-482c86fabb3c"
      },
      "execution_count": null,
      "outputs": [
        {
          "output_type": "stream",
          "name": "stderr",
          "text": [
            "test -1:   0%|                                     | 0/120 [00:47<?, ?it/s]\n",
            "test -1:   1%|▏                          | 1/120 [00:41<1:21:45, 41.22s/it]\n"
          ]
        },
        {
          "output_type": "stream",
          "name": "stdout",
          "text": [
            "Loaded 1910 entries from ./test-conllu.dat.filtered\n"
          ]
        },
        {
          "output_type": "stream",
          "name": "stderr",
          "text": [
            "\rtest -1:   0%|                                     | 0/120 [00:00<?, ?it/s]"
          ]
        },
        {
          "output_type": "error",
          "ename": "KeyError",
          "evalue": "ignored",
          "traceback": [
            "\u001b[0;31m---------------------------------------------------------------------------\u001b[0m",
            "\u001b[0;31mKeyError\u001b[0m                                  Traceback (most recent call last)",
            "\u001b[0;32m<ipython-input-25-b45ac59a560b>\u001b[0m in \u001b[0;36m<module>\u001b[0;34m\u001b[0m\n\u001b[1;32m      8\u001b[0m \u001b[0mtest_set\u001b[0m\u001b[0;34m.\u001b[0m\u001b[0mnumberize\u001b[0m\u001b[0;34m(\u001b[0m\u001b[0;34m)\u001b[0m\u001b[0;34m\u001b[0m\u001b[0;34m\u001b[0m\u001b[0m\n\u001b[1;32m      9\u001b[0m \u001b[0mtest_batch_num\u001b[0m \u001b[0;34m=\u001b[0m \u001b[0mlen\u001b[0m\u001b[0;34m(\u001b[0m\u001b[0mtest_set\u001b[0m\u001b[0;34m)\u001b[0m \u001b[0;34m//\u001b[0m \u001b[0mtrainer\u001b[0m\u001b[0;34m.\u001b[0m\u001b[0m_config\u001b[0m\u001b[0;34m.\u001b[0m\u001b[0mbatch_size\u001b[0m \u001b[0;34m+\u001b[0m \u001b[0;34m(\u001b[0m\u001b[0mlen\u001b[0m\u001b[0;34m(\u001b[0m\u001b[0mtest_set\u001b[0m\u001b[0;34m)\u001b[0m \u001b[0;34m%\u001b[0m \u001b[0mtrainer\u001b[0m\u001b[0;34m.\u001b[0m\u001b[0m_config\u001b[0m\u001b[0;34m.\u001b[0m\u001b[0mbatch_size\u001b[0m \u001b[0;34m!=\u001b[0m \u001b[0;36m0\u001b[0m\u001b[0;34m)\u001b[0m\u001b[0;34m\u001b[0m\u001b[0;34m\u001b[0m\u001b[0m\n\u001b[0;32m---> 10\u001b[0;31m \u001b[0mresult\u001b[0m \u001b[0;34m=\u001b[0m \u001b[0mtrainer\u001b[0m\u001b[0;34m.\u001b[0m\u001b[0m_eval_posdep\u001b[0m\u001b[0;34m(\u001b[0m\u001b[0mdata_set\u001b[0m\u001b[0;34m=\u001b[0m\u001b[0mtest_set\u001b[0m\u001b[0;34m,\u001b[0m \u001b[0mbatch_num\u001b[0m\u001b[0;34m=\u001b[0m\u001b[0mtest_batch_num\u001b[0m\u001b[0;34m,\u001b[0m \u001b[0mname\u001b[0m\u001b[0;34m=\u001b[0m\u001b[0;34m'test'\u001b[0m\u001b[0;34m,\u001b[0m \u001b[0mepoch\u001b[0m\u001b[0;34m=\u001b[0m\u001b[0;34m-\u001b[0m\u001b[0;36m1\u001b[0m\u001b[0;34m)\u001b[0m\u001b[0;34m\u001b[0m\u001b[0;34m\u001b[0m\u001b[0m\n\u001b[0m",
            "\u001b[0;32m/usr/local/lib/python3.7/dist-packages/trankit/tpipeline.py\u001b[0m in \u001b[0;36m_eval_posdep\u001b[0;34m(self, data_set, batch_num, name, epoch)\u001b[0m\n\u001b[1;32m    543\u001b[0m                            \u001b[0mi\u001b[0m\u001b[0;34m,\u001b[0m \u001b[0mhs\u001b[0m\u001b[0;34m\u001b[0m\u001b[0;34m\u001b[0m\u001b[0m\n\u001b[1;32m    544\u001b[0m                            \u001b[0;32min\u001b[0m\u001b[0;34m\u001b[0m\u001b[0;34m\u001b[0m\u001b[0m\n\u001b[0;32m--> 545\u001b[0;31m                            enumerate(head_seqs)]\n\u001b[0m\u001b[1;32m    546\u001b[0m \u001b[0;34m\u001b[0m\u001b[0m\n\u001b[1;32m    547\u001b[0m             pred_tokens = [[[head_seqs[i][j], deprel_seqs[i][j]] for j in range(sentlens[i] - 1)] for i in\n",
            "\u001b[0;32m/usr/local/lib/python3.7/dist-packages/trankit/tpipeline.py\u001b[0m in \u001b[0;36m<listcomp>\u001b[0;34m(.0)\u001b[0m\n\u001b[1;32m    541\u001b[0m             deprel_seqs = [[self._config.itos[DEPREL][predicted_dep[1][i][j + 1][h]] for j, h in\n\u001b[1;32m    542\u001b[0m                             enumerate(hs)] for\n\u001b[0;32m--> 543\u001b[0;31m                            \u001b[0mi\u001b[0m\u001b[0;34m,\u001b[0m \u001b[0mhs\u001b[0m\u001b[0;34m\u001b[0m\u001b[0;34m\u001b[0m\u001b[0m\n\u001b[0m\u001b[1;32m    544\u001b[0m                            \u001b[0;32min\u001b[0m\u001b[0;34m\u001b[0m\u001b[0;34m\u001b[0m\u001b[0m\n\u001b[1;32m    545\u001b[0m                            enumerate(head_seqs)]\n",
            "\u001b[0;32m/usr/local/lib/python3.7/dist-packages/trankit/tpipeline.py\u001b[0m in \u001b[0;36m<listcomp>\u001b[0;34m(.0)\u001b[0m\n\u001b[1;32m    539\u001b[0m             head_seqs = [chuliu_edmonds_one_root(adj[:l, :l])[1:] for adj, l in\n\u001b[1;32m    540\u001b[0m                          zip(predicted_dep[0], sentlens)]\n\u001b[0;32m--> 541\u001b[0;31m             deprel_seqs = [[self._config.itos[DEPREL][predicted_dep[1][i][j + 1][h]] for j, h in\n\u001b[0m\u001b[1;32m    542\u001b[0m                             enumerate(hs)] for\n\u001b[1;32m    543\u001b[0m                            \u001b[0mi\u001b[0m\u001b[0;34m,\u001b[0m \u001b[0mhs\u001b[0m\u001b[0;34m\u001b[0m\u001b[0;34m\u001b[0m\u001b[0m\n",
            "\u001b[0;31mKeyError\u001b[0m: 1"
          ]
        }
      ]
    },
    {
      "cell_type": "code",
      "source": [
        "print(result)"
      ],
      "metadata": {
        "id": "beZ0oXNRPGNO"
      },
      "execution_count": null,
      "outputs": []
    }
  ]
}